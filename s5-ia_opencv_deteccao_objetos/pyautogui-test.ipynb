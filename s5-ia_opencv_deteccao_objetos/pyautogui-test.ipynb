{
 "cells": [
  {
   "cell_type": "code",
   "execution_count": 2,
   "metadata": {},
   "outputs": [
    {
     "name": "stdout",
     "output_type": "stream",
     "text": [
      "Posição do Mouse: (1394, 197), RGB: (201, 204, 209)\n",
      "Posição do Mouse: (549, 361), RGB: (118, 17, 1)\n",
      "Posição do Mouse: (549, 361), RGB: (118, 17, 1)\n",
      "Posição do Mouse: (549, 361), RGB: (118, 17, 1)\n",
      "Posição do Mouse: (549, 361), RGB: (118, 17, 1)\n",
      "Posição do Mouse: (549, 361), RGB: (118, 17, 1)\n",
      "Posição do Mouse: (549, 361), RGB: (118, 17, 1)\n",
      "Posição do Mouse: (549, 361), RGB: (118, 17, 1)\n",
      "Posição do Mouse: (549, 361), RGB: (118, 17, 1)\n",
      "Posição do Mouse: (549, 361), RGB: (118, 17, 1)\n"
     ]
    }
   ],
   "source": [
    "import pyautogui\n",
    "import keyboard\n",
    "import time\n",
    "\n",
    "# Função para exibir a posição e RGB do mouse\n",
    "def display_mouse_info():\n",
    "    while not keyboard.is_pressed('q'):  # Pressione 'q' para sair do loop\n",
    "        # Obtém a posição atual do mouse\n",
    "        mouse_x, mouse_y = pyautogui.position()\n",
    "\n",
    "        # Obtém o valor RGB do pixel na posição do mouse\n",
    "        rgb = pyautogui.pixel(mouse_x, mouse_y)\n",
    "\n",
    "        # Exibe a posição e o valor RGB\n",
    "        print(f\"Posição do Mouse: ({mouse_x}, {mouse_y}), RGB: {rgb}\")\n",
    "\n",
    "        # Adiciona um atraso de 2 segundo\n",
    "        time.sleep(2)\n",
    "\n",
    "# Chama a função para exibir a posição e RGB do mouse\n",
    "display_mouse_info()"
   ]
  }
 ],
 "metadata": {
  "kernelspec": {
   "display_name": "base",
   "language": "python",
   "name": "python3"
  },
  "language_info": {
   "codemirror_mode": {
    "name": "ipython",
    "version": 3
   },
   "file_extension": ".py",
   "mimetype": "text/x-python",
   "name": "python",
   "nbconvert_exporter": "python",
   "pygments_lexer": "ipython3",
   "version": "3.11.4"
  }
 },
 "nbformat": 4,
 "nbformat_minor": 2
}
