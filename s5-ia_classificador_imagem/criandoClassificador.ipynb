{
	"cells": [
		{
			"cell_type": "code",
			"execution_count": 1,
			"metadata": {},
			"outputs": [
				{
					"name": "stdout",
					"output_type": "stream",
					"text": [
						"Requirement already satisfied: tensorflow in c:\\users\\pablo\\anaconda3\\lib\\site-packages (2.14.0)\n",
						"Requirement already satisfied: tensorflow-intel==2.14.0 in c:\\users\\pablo\\anaconda3\\lib\\site-packages (from tensorflow) (2.14.0)\n",
						"Requirement already satisfied: absl-py>=1.0.0 in c:\\users\\pablo\\anaconda3\\lib\\site-packages (from tensorflow-intel==2.14.0->tensorflow) (2.0.0)\n",
						"Requirement already satisfied: astunparse>=1.6.0 in c:\\users\\pablo\\anaconda3\\lib\\site-packages (from tensorflow-intel==2.14.0->tensorflow) (1.6.3)\n",
						"Requirement already satisfied: flatbuffers>=23.5.26 in c:\\users\\pablo\\anaconda3\\lib\\site-packages (from tensorflow-intel==2.14.0->tensorflow) (23.5.26)\n",
						"Requirement already satisfied: gast!=0.5.0,!=0.5.1,!=0.5.2,>=0.2.1 in c:\\users\\pablo\\anaconda3\\lib\\site-packages (from tensorflow-intel==2.14.0->tensorflow) (0.5.4)\n",
						"Requirement already satisfied: google-pasta>=0.1.1 in c:\\users\\pablo\\anaconda3\\lib\\site-packages (from tensorflow-intel==2.14.0->tensorflow) (0.2.0)\n",
						"Requirement already satisfied: h5py>=2.9.0 in c:\\users\\pablo\\anaconda3\\lib\\site-packages (from tensorflow-intel==2.14.0->tensorflow) (3.9.0)\n",
						"Requirement already satisfied: libclang>=13.0.0 in c:\\users\\pablo\\anaconda3\\lib\\site-packages (from tensorflow-intel==2.14.0->tensorflow) (16.0.6)\n",
						"Requirement already satisfied: ml-dtypes==0.2.0 in c:\\users\\pablo\\anaconda3\\lib\\site-packages (from tensorflow-intel==2.14.0->tensorflow) (0.2.0)\n",
						"Requirement already satisfied: numpy>=1.23.5 in c:\\users\\pablo\\anaconda3\\lib\\site-packages (from tensorflow-intel==2.14.0->tensorflow) (1.24.3)\n",
						"Requirement already satisfied: opt-einsum>=2.3.2 in c:\\users\\pablo\\anaconda3\\lib\\site-packages (from tensorflow-intel==2.14.0->tensorflow) (3.3.0)\n",
						"Requirement already satisfied: packaging in c:\\users\\pablo\\appdata\\roaming\\python\\python311\\site-packages (from tensorflow-intel==2.14.0->tensorflow) (23.1)\n",
						"Requirement already satisfied: protobuf!=4.21.0,!=4.21.1,!=4.21.2,!=4.21.3,!=4.21.4,!=4.21.5,<5.0.0dev,>=3.20.3 in c:\\users\\pablo\\anaconda3\\lib\\site-packages (from tensorflow-intel==2.14.0->tensorflow) (4.23.4)\n",
						"Requirement already satisfied: setuptools in c:\\users\\pablo\\anaconda3\\lib\\site-packages (from tensorflow-intel==2.14.0->tensorflow) (68.0.0)\n",
						"Requirement already satisfied: six>=1.12.0 in c:\\users\\pablo\\appdata\\roaming\\python\\python311\\site-packages (from tensorflow-intel==2.14.0->tensorflow) (1.16.0)\n",
						"Requirement already satisfied: termcolor>=1.1.0 in c:\\users\\pablo\\anaconda3\\lib\\site-packages (from tensorflow-intel==2.14.0->tensorflow) (2.3.0)\n",
						"Requirement already satisfied: typing-extensions>=3.6.6 in c:\\users\\pablo\\anaconda3\\lib\\site-packages (from tensorflow-intel==2.14.0->tensorflow) (4.8.0)\n",
						"Requirement already satisfied: wrapt<1.15,>=1.11.0 in c:\\users\\pablo\\anaconda3\\lib\\site-packages (from tensorflow-intel==2.14.0->tensorflow) (1.14.1)\n",
						"Requirement already satisfied: tensorflow-io-gcs-filesystem>=0.23.1 in c:\\users\\pablo\\anaconda3\\lib\\site-packages (from tensorflow-intel==2.14.0->tensorflow) (0.31.0)\n",
						"Requirement already satisfied: grpcio<2.0,>=1.24.3 in c:\\users\\pablo\\anaconda3\\lib\\site-packages (from tensorflow-intel==2.14.0->tensorflow) (1.59.0)\n",
						"Requirement already satisfied: tensorboard<2.15,>=2.14 in c:\\users\\pablo\\anaconda3\\lib\\site-packages (from tensorflow-intel==2.14.0->tensorflow) (2.14.1)\n",
						"Requirement already satisfied: tensorflow-estimator<2.15,>=2.14.0 in c:\\users\\pablo\\anaconda3\\lib\\site-packages (from tensorflow-intel==2.14.0->tensorflow) (2.14.0)\n",
						"Requirement already satisfied: keras<2.15,>=2.14.0 in c:\\users\\pablo\\anaconda3\\lib\\site-packages (from tensorflow-intel==2.14.0->tensorflow) (2.14.0)\n",
						"Requirement already satisfied: wheel<1.0,>=0.23.0 in c:\\users\\pablo\\anaconda3\\lib\\site-packages (from astunparse>=1.6.0->tensorflow-intel==2.14.0->tensorflow) (0.38.4)\n",
						"Requirement already satisfied: google-auth<3,>=1.6.3 in c:\\users\\pablo\\anaconda3\\lib\\site-packages (from tensorboard<2.15,>=2.14->tensorflow-intel==2.14.0->tensorflow) (2.23.3)\n",
						"Requirement already satisfied: google-auth-oauthlib<1.1,>=0.5 in c:\\users\\pablo\\anaconda3\\lib\\site-packages (from tensorboard<2.15,>=2.14->tensorflow-intel==2.14.0->tensorflow) (1.0.0)\n",
						"Requirement already satisfied: markdown>=2.6.8 in c:\\users\\pablo\\anaconda3\\lib\\site-packages (from tensorboard<2.15,>=2.14->tensorflow-intel==2.14.0->tensorflow) (3.4.1)\n",
						"Requirement already satisfied: requests<3,>=2.21.0 in c:\\users\\pablo\\anaconda3\\lib\\site-packages (from tensorboard<2.15,>=2.14->tensorflow-intel==2.14.0->tensorflow) (2.31.0)\n",
						"Requirement already satisfied: tensorboard-data-server<0.8.0,>=0.7.0 in c:\\users\\pablo\\anaconda3\\lib\\site-packages (from tensorboard<2.15,>=2.14->tensorflow-intel==2.14.0->tensorflow) (0.7.2)\n",
						"Requirement already satisfied: werkzeug>=1.0.1 in c:\\users\\pablo\\anaconda3\\lib\\site-packages (from tensorboard<2.15,>=2.14->tensorflow-intel==2.14.0->tensorflow) (2.3.6)\n",
						"Requirement already satisfied: cachetools<6.0,>=2.0.0 in c:\\users\\pablo\\anaconda3\\lib\\site-packages (from google-auth<3,>=1.6.3->tensorboard<2.15,>=2.14->tensorflow-intel==2.14.0->tensorflow) (5.3.1)\n",
						"Requirement already satisfied: pyasn1-modules>=0.2.1 in c:\\users\\pablo\\anaconda3\\lib\\site-packages (from google-auth<3,>=1.6.3->tensorboard<2.15,>=2.14->tensorflow-intel==2.14.0->tensorflow) (0.2.8)\n",
						"Requirement already satisfied: rsa<5,>=3.1.4 in c:\\users\\pablo\\anaconda3\\lib\\site-packages (from google-auth<3,>=1.6.3->tensorboard<2.15,>=2.14->tensorflow-intel==2.14.0->tensorflow) (4.9)\n",
						"Requirement already satisfied: requests-oauthlib>=0.7.0 in c:\\users\\pablo\\anaconda3\\lib\\site-packages (from google-auth-oauthlib<1.1,>=0.5->tensorboard<2.15,>=2.14->tensorflow-intel==2.14.0->tensorflow) (1.3.1)\n",
						"Requirement already satisfied: charset-normalizer<4,>=2 in c:\\users\\pablo\\anaconda3\\lib\\site-packages (from requests<3,>=2.21.0->tensorboard<2.15,>=2.14->tensorflow-intel==2.14.0->tensorflow) (2.0.4)\n",
						"Requirement already satisfied: idna<4,>=2.5 in c:\\users\\pablo\\anaconda3\\lib\\site-packages (from requests<3,>=2.21.0->tensorboard<2.15,>=2.14->tensorflow-intel==2.14.0->tensorflow) (3.4)\n",
						"Requirement already satisfied: urllib3<3,>=1.21.1 in c:\\users\\pablo\\anaconda3\\lib\\site-packages (from requests<3,>=2.21.0->tensorboard<2.15,>=2.14->tensorflow-intel==2.14.0->tensorflow) (1.26.16)\n",
						"Requirement already satisfied: certifi>=2017.4.17 in c:\\users\\pablo\\anaconda3\\lib\\site-packages (from requests<3,>=2.21.0->tensorboard<2.15,>=2.14->tensorflow-intel==2.14.0->tensorflow) (2023.7.22)\n",
						"Requirement already satisfied: MarkupSafe>=2.1.1 in c:\\users\\pablo\\anaconda3\\lib\\site-packages (from werkzeug>=1.0.1->tensorboard<2.15,>=2.14->tensorflow-intel==2.14.0->tensorflow) (2.1.1)\n",
						"Requirement already satisfied: pyasn1<0.5.0,>=0.4.6 in c:\\users\\pablo\\anaconda3\\lib\\site-packages (from pyasn1-modules>=0.2.1->google-auth<3,>=1.6.3->tensorboard<2.15,>=2.14->tensorflow-intel==2.14.0->tensorflow) (0.4.8)\n",
						"Requirement already satisfied: oauthlib>=3.0.0 in c:\\users\\pablo\\anaconda3\\lib\\site-packages (from requests-oauthlib>=0.7.0->google-auth-oauthlib<1.1,>=0.5->tensorboard<2.15,>=2.14->tensorflow-intel==2.14.0->tensorflow) (3.2.2)\n"
					]
				}
			],
			"source": [
				"!pip install tensorflow"
			]
		},
		{
			"cell_type": "code",
			"execution_count": 2,
			"metadata": {},
			"outputs": [
				{
					"name": "stdout",
					"output_type": "stream",
					"text": [
						"Requirement already satisfied: scipy in c:\\users\\pablo\\anaconda3\\lib\\site-packages (1.11.1)\n",
						"Requirement already satisfied: numpy<1.28.0,>=1.21.6 in c:\\users\\pablo\\anaconda3\\lib\\site-packages (from scipy) (1.24.3)\n"
					]
				}
			],
			"source": [
				"!pip install scipy"
			]
		},
		{
			"cell_type": "code",
			"execution_count": 3,
			"metadata": {},
			"outputs": [],
			"source": [
				"import tensorflow as tf\n",
				"import scipy, numpy\n",
				"\n",
				"from tensorflow.keras.preprocessing.image import ImageDataGenerator\n",
				"from tensorflow.keras.models import Sequential\n",
				"from tensorflow.keras.layers import Conv2D, MaxPooling2D, Flatten, Dense, Dropout"
			]
		},
		{
			"cell_type": "code",
			"execution_count": 4,
			"metadata": {},
			"outputs": [],
			"source": [
				"# Caminhos para as pastas de dados\n",
				"train_data_dir = './data'\n",
				"batch_size = 32 # ***\n",
				"image_size = (150, 150)\n",
				"num_epochs = 50\n",
				"num_classes = 2"
			]
		},
		{
			"cell_type": "code",
			"execution_count": 5,
			"metadata": {},
			"outputs": [],
			"source": [
				"# Crie geradores de dados de treinamento\n",
				"train_datagen = ImageDataGenerator(\n",
				"    rescale=1.0 / 255, # Normalização das imagens\n",
				"    validation_split=0.25,  # Define a divisão de validação\n",
				"    shear_range=0.2,\n",
				"    zoom_range=0.2,\n",
				"    horizontal_flip=True)    "
			]
		},
		{
			"cell_type": "code",
			"execution_count": 6,
			"metadata": {},
			"outputs": [
				{
					"name": "stdout",
					"output_type": "stream",
					"text": [
						"Found 41 images belonging to 2 classes.\n"
					]
				}
			],
			"source": [
				"train_generator = train_datagen.flow_from_directory(\n",
				"    train_data_dir,\n",
				"    target_size=image_size,\n",
				"    batch_size=batch_size,\n",
				"    class_mode='binary',\n",
				"    subset='training'\n",
				")"
			]
		},
		{
			"cell_type": "code",
			"execution_count": 7,
			"metadata": {},
			"outputs": [
				{
					"name": "stdout",
					"output_type": "stream",
					"text": [
						"Found 12 images belonging to 2 classes.\n"
					]
				}
			],
			"source": [
				"validation_generator = train_datagen.flow_from_directory(\n",
				"    train_data_dir,\n",
				"    target_size=image_size,\n",
				"    batch_size=batch_size,\n",
				"    class_mode='binary',\n",
				"    subset='validation'\n",
				")"
			]
		},
		{
			"cell_type": "code",
			"execution_count": 8,
			"metadata": {},
			"outputs": [],
			"source": [
				"model = Sequential()\n",
				"model.add(Conv2D(32, (3, 3), input_shape=(image_size[0], image_size[1], 3), activation='relu'))\n",
				"model.add(MaxPooling2D(pool_size=(2, 2)))\n",
				"model.add(Conv2D(64, (3, 3), activation='relu'))\n",
				"model.add(MaxPooling2D(pool_size=(2, 2)))\n",
				"model.add(Flatten())\n",
				"model.add(Dense(64, activation='relu'))\n",
				"model.add(Dropout(0.5))\n",
				"model.add(Dense(1, activation='sigmoid'))  # Camada de saída com 1 unidade para classificação binária"
			]
		},
		{
			"cell_type": "code",
			"execution_count": 9,
			"metadata": {},
			"outputs": [],
			"source": [
				"# Compile o modelo\n",
				"model.compile(loss='binary_crossentropy',\n",
				"              optimizer='adam',\n",
				"              metrics=['accuracy'])"
			]
		},
		{
			"cell_type": "code",
			"execution_count": 10,
			"metadata": {},
			"outputs": [
				{
					"name": "stdout",
					"output_type": "stream",
					"text": [
						"Epoch 1/50\n",
						"2/2 [==============================] - 1s 498ms/step - loss: 2.5062 - accuracy: 0.4146 - val_loss: 0.6419 - val_accuracy: 0.5833\n",
						"Epoch 2/50\n",
						"2/2 [==============================] - 0s 177ms/step - loss: 1.2377 - accuracy: 0.5854 - val_loss: 1.2728 - val_accuracy: 0.5000\n",
						"Epoch 3/50\n",
						"2/2 [==============================] - 1s 386ms/step - loss: 1.1051 - accuracy: 0.5854 - val_loss: 0.6528 - val_accuracy: 0.8333\n",
						"Epoch 4/50\n",
						"2/2 [==============================] - 0s 167ms/step - loss: 0.7845 - accuracy: 0.5366 - val_loss: 0.6852 - val_accuracy: 0.5000\n",
						"Epoch 5/50\n",
						"2/2 [==============================] - 0s 167ms/step - loss: 0.7048 - accuracy: 0.5610 - val_loss: 0.6422 - val_accuracy: 0.5000\n",
						"Epoch 6/50\n",
						"2/2 [==============================] - 0s 344ms/step - loss: 0.6761 - accuracy: 0.5366 - val_loss: 0.6581 - val_accuracy: 0.7500\n",
						"Epoch 7/50\n",
						"2/2 [==============================] - 0s 170ms/step - loss: 0.6264 - accuracy: 0.7561 - val_loss: 0.6664 - val_accuracy: 0.6667\n",
						"Epoch 8/50\n",
						"2/2 [==============================] - 0s 366ms/step - loss: 0.6245 - accuracy: 0.8049 - val_loss: 0.6548 - val_accuracy: 0.7500\n",
						"Epoch 9/50\n",
						"2/2 [==============================] - 0s 170ms/step - loss: 0.6025 - accuracy: 0.7805 - val_loss: 0.6246 - val_accuracy: 0.6667\n",
						"Epoch 10/50\n",
						"2/2 [==============================] - 0s 383ms/step - loss: 0.5836 - accuracy: 0.7073 - val_loss: 0.5996 - val_accuracy: 0.7500\n",
						"Epoch 11/50\n",
						"2/2 [==============================] - 0s 168ms/step - loss: 0.5363 - accuracy: 0.8537 - val_loss: 0.6111 - val_accuracy: 0.6667\n",
						"Epoch 12/50\n",
						"2/2 [==============================] - 0s 354ms/step - loss: 0.4808 - accuracy: 0.7073 - val_loss: 0.5713 - val_accuracy: 0.6667\n",
						"Epoch 13/50\n",
						"2/2 [==============================] - 0s 345ms/step - loss: 0.4272 - accuracy: 0.8293 - val_loss: 0.4547 - val_accuracy: 0.8333\n",
						"Epoch 14/50\n",
						"2/2 [==============================] - 0s 176ms/step - loss: 0.4338 - accuracy: 0.7805 - val_loss: 0.4907 - val_accuracy: 0.7500\n",
						"Epoch 15/50\n",
						"2/2 [==============================] - 0s 353ms/step - loss: 0.4067 - accuracy: 0.7561 - val_loss: 0.5936 - val_accuracy: 0.6667\n",
						"Epoch 16/50\n",
						"2/2 [==============================] - 0s 347ms/step - loss: 0.4270 - accuracy: 0.7805 - val_loss: 0.3970 - val_accuracy: 0.9167\n",
						"Epoch 17/50\n",
						"2/2 [==============================] - 0s 363ms/step - loss: 0.3819 - accuracy: 0.8049 - val_loss: 0.3875 - val_accuracy: 0.8333\n",
						"Epoch 18/50\n",
						"2/2 [==============================] - 0s 348ms/step - loss: 0.3602 - accuracy: 0.9024 - val_loss: 0.3754 - val_accuracy: 0.8333\n",
						"Epoch 19/50\n",
						"2/2 [==============================] - 0s 339ms/step - loss: 0.3953 - accuracy: 0.8293 - val_loss: 0.3358 - val_accuracy: 0.9167\n",
						"Epoch 20/50\n",
						"2/2 [==============================] - 0s 341ms/step - loss: 0.2930 - accuracy: 0.8780 - val_loss: 0.3208 - val_accuracy: 0.8333\n",
						"Epoch 21/50\n",
						"2/2 [==============================] - 0s 165ms/step - loss: 0.3651 - accuracy: 0.8293 - val_loss: 0.3037 - val_accuracy: 0.7500\n",
						"Epoch 22/50\n",
						"2/2 [==============================] - 0s 346ms/step - loss: 0.2352 - accuracy: 0.9268 - val_loss: 0.3226 - val_accuracy: 0.8333\n",
						"Epoch 23/50\n",
						"2/2 [==============================] - 0s 341ms/step - loss: 0.1829 - accuracy: 0.9024 - val_loss: 0.2982 - val_accuracy: 0.9167\n",
						"Epoch 24/50\n",
						"2/2 [==============================] - 0s 342ms/step - loss: 0.2366 - accuracy: 0.8537 - val_loss: 0.3108 - val_accuracy: 0.9167\n",
						"Epoch 25/50\n",
						"2/2 [==============================] - 0s 167ms/step - loss: 0.2260 - accuracy: 0.8537 - val_loss: 0.2527 - val_accuracy: 0.9167\n",
						"Epoch 26/50\n",
						"2/2 [==============================] - 0s 352ms/step - loss: 0.3451 - accuracy: 0.8049 - val_loss: 0.2425 - val_accuracy: 0.8333\n",
						"Epoch 27/50\n",
						"2/2 [==============================] - 0s 344ms/step - loss: 0.2655 - accuracy: 0.8537 - val_loss: 0.3613 - val_accuracy: 0.8333\n",
						"Epoch 28/50\n",
						"2/2 [==============================] - 0s 367ms/step - loss: 0.2343 - accuracy: 0.9268 - val_loss: 0.2917 - val_accuracy: 0.8333\n",
						"Epoch 29/50\n",
						"2/2 [==============================] - 0s 367ms/step - loss: 0.1975 - accuracy: 0.9756 - val_loss: 0.1960 - val_accuracy: 0.9167\n",
						"Epoch 30/50\n",
						"2/2 [==============================] - 0s 350ms/step - loss: 0.2076 - accuracy: 0.9512 - val_loss: 0.2393 - val_accuracy: 0.9167\n",
						"Epoch 31/50\n",
						"2/2 [==============================] - 0s 345ms/step - loss: 0.1829 - accuracy: 0.9756 - val_loss: 0.2108 - val_accuracy: 0.9167\n",
						"Epoch 32/50\n",
						"2/2 [==============================] - 0s 347ms/step - loss: 0.1815 - accuracy: 0.9268 - val_loss: 0.1895 - val_accuracy: 0.9167\n",
						"Epoch 33/50\n",
						"2/2 [==============================] - 0s 182ms/step - loss: 0.1852 - accuracy: 0.9512 - val_loss: 0.3462 - val_accuracy: 0.8333\n",
						"Epoch 34/50\n",
						"2/2 [==============================] - 0s 172ms/step - loss: 0.2194 - accuracy: 0.9024 - val_loss: 0.1252 - val_accuracy: 1.0000\n",
						"Epoch 35/50\n",
						"2/2 [==============================] - 0s 163ms/step - loss: 0.1429 - accuracy: 0.9512 - val_loss: 0.2714 - val_accuracy: 0.9167\n",
						"Epoch 36/50\n",
						"2/2 [==============================] - 0s 166ms/step - loss: 0.2262 - accuracy: 0.9024 - val_loss: 0.2133 - val_accuracy: 0.9167\n",
						"Epoch 37/50\n",
						"2/2 [==============================] - 0s 349ms/step - loss: 0.1325 - accuracy: 0.9756 - val_loss: 0.1665 - val_accuracy: 0.9167\n",
						"Epoch 38/50\n",
						"2/2 [==============================] - 0s 174ms/step - loss: 0.1198 - accuracy: 0.9756 - val_loss: 0.3086 - val_accuracy: 0.8333\n",
						"Epoch 39/50\n",
						"2/2 [==============================] - 0s 167ms/step - loss: 0.1964 - accuracy: 0.9024 - val_loss: 0.2348 - val_accuracy: 0.9167\n",
						"Epoch 40/50\n",
						"2/2 [==============================] - 0s 340ms/step - loss: 0.0904 - accuracy: 0.9512 - val_loss: 0.1926 - val_accuracy: 0.9167\n",
						"Epoch 41/50\n",
						"2/2 [==============================] - 0s 166ms/step - loss: 0.0749 - accuracy: 1.0000 - val_loss: 0.2338 - val_accuracy: 0.9167\n",
						"Epoch 42/50\n",
						"2/2 [==============================] - 0s 341ms/step - loss: 0.1010 - accuracy: 1.0000 - val_loss: 0.1671 - val_accuracy: 0.9167\n",
						"Epoch 43/50\n",
						"2/2 [==============================] - 0s 349ms/step - loss: 0.0878 - accuracy: 0.9756 - val_loss: 0.1923 - val_accuracy: 0.9167\n",
						"Epoch 44/50\n",
						"2/2 [==============================] - 0s 167ms/step - loss: 0.0788 - accuracy: 0.9756 - val_loss: 0.3788 - val_accuracy: 0.9167\n",
						"Epoch 45/50\n",
						"2/2 [==============================] - 0s 168ms/step - loss: 0.0572 - accuracy: 1.0000 - val_loss: 0.3573 - val_accuracy: 0.8333\n",
						"Epoch 46/50\n",
						"2/2 [==============================] - 0s 343ms/step - loss: 0.0914 - accuracy: 1.0000 - val_loss: 0.0960 - val_accuracy: 0.9167\n",
						"Epoch 47/50\n",
						"2/2 [==============================] - 0s 170ms/step - loss: 0.0456 - accuracy: 1.0000 - val_loss: 0.2766 - val_accuracy: 0.8333\n",
						"Epoch 48/50\n",
						"2/2 [==============================] - 0s 164ms/step - loss: 0.1272 - accuracy: 0.9756 - val_loss: 0.1305 - val_accuracy: 0.9167\n",
						"Epoch 49/50\n",
						"2/2 [==============================] - 0s 166ms/step - loss: 0.1045 - accuracy: 0.9756 - val_loss: 0.2150 - val_accuracy: 0.8333\n",
						"Epoch 50/50\n",
						"2/2 [==============================] - 0s 161ms/step - loss: 0.0799 - accuracy: 1.0000 - val_loss: 0.3701 - val_accuracy: 0.7500\n",
						"Modelo salvo com sucesso!\n"
					]
				},
				{
					"name": "stderr",
					"output_type": "stream",
					"text": [
						"c:\\Users\\pablo\\anaconda3\\Lib\\site-packages\\keras\\src\\engine\\training.py:3079: UserWarning: You are saving your model as an HDF5 file via `model.save()`. This file format is considered legacy. We recommend using instead the native Keras format, e.g. `model.save('my_model.keras')`.\n",
						"  saving_api.save_model(\n"
					]
				}
			],
			"source": [
				"# Treine o modelo\n",
				"model.fit(\n",
				"    train_generator,\n",
				"    epochs=num_epochs,\n",
				"    validation_data=validation_generator)\n",
				"\n",
				"# Salve o modelo treinados\n",
				"model.save('./models/cfModeloEmAula.h5')\n",
				"\n",
				"print('Modelo salvo com sucesso!')"
			]
		}
	],
	"metadata": {
		"kernelspec": {
			"display_name": "base",
			"language": "python",
			"name": "python3"
		},
		"language_info": {
			"codemirror_mode": {
				"name": "ipython",
				"version": 3
			},
			"file_extension": ".py",
			"mimetype": "text/x-python",
			"name": "python",
			"nbconvert_exporter": "python",
			"pygments_lexer": "ipython3",
			"version": "3.11.4"
		}
	},
	"nbformat": 4,
	"nbformat_minor": 2
}
